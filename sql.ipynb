{
  "nbformat": 4,
  "nbformat_minor": 0,
  "metadata": {
    "colab": {
      "provenance": [],
      "authorship_tag": "ABX9TyNAFPiuBhzzg6hSKsZQz4mP",
      "include_colab_link": true
    },
    "kernelspec": {
      "name": "python3",
      "display_name": "Python 3"
    },
    "language_info": {
      "name": "python"
    }
  },
  "cells": [
    {
      "cell_type": "markdown",
      "metadata": {
        "id": "view-in-github",
        "colab_type": "text"
      },
      "source": [
        "<a href=\"https://colab.research.google.com/github/Carmen-N/Analisis-de-Datos-usando-SQL/blob/master/sql.ipynb\" target=\"_parent\"><img src=\"https://colab.research.google.com/assets/colab-badge.svg\" alt=\"Open In Colab\"/></a>"
      ]
    },
    {
      "cell_type": "code",
      "execution_count": 1,
      "metadata": {
        "id": "sUTQUUk2GZkp"
      },
      "outputs": [],
      "source": [
        "import numpy as np # linear algebra\n",
        "import pandas as pd # data processing, CSV file I/O (e.g. pd.read_csv)\n",
        "import sqlite3\n",
        "import matplotlib.pyplot as plt"
      ]
    },
    {
      "cell_type": "markdown",
      "source": [
        "# Los archivos de datos de entrada están disponibles en el directorio \"../input/\"\n",
        "#  Por ejemplo, ejecutando esto (haciendo clic en ejecutar o pulsando Shift+Enter) se listarán los archivos del directorio de entrada"
      ],
      "metadata": {
        "id": "AC00Ip-FHKtD"
      }
    },
    {
      "cell_type": "code",
      "source": [
        "path = \"../input/\"  #Insertar ruta aquí\n",
        "database = path + 'database.sqlite'"
      ],
      "metadata": {
        "id": "ax5LMh4QIpec"
      },
      "execution_count": 2,
      "outputs": []
    },
    {
      "cell_type": "markdown",
      "source": [
        "**Primero crearemos la conexión a la BD, y veremos qué tablas tenemos**\n",
        "\n",
        "La estructura básica de la consulta es muy simple: \n",
        "Defines lo que quieres ver después del **SELECT**,  significa todas las columnas posibles Eliges la tabla después del **FROM** Añada las condiciones para los datos que desee utilizar de la(s) tabla(s) después del campo **WHERE**\n",
        "\n",
        "La estructura y el orden de las secciones son importantes, mientras que los espacios, las nuevas líneas, las mayúsculas y la sangría están ahí para facilitar la lectura del código"
      ],
      "metadata": {
        "id": "D2NAxEErJAA8"
      }
    }
  ]
}